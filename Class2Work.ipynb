{
 "cells": [
  {
   "cell_type": "code",
   "execution_count": 6,
   "metadata": {},
   "outputs": [
    {
     "name": "stdout",
     "output_type": "stream",
     "text": [
      "4 1\n"
     ]
    }
   ],
   "source": [
    "#1. Write a program that swaps the values of two variables.\n",
    "a1=int(input())\n",
    "b1=int(input())\n",
    "a1,b1=b1,a1\n",
    "print(a1,b1)"
   ]
  },
  {
   "cell_type": "code",
   "execution_count": 7,
   "metadata": {},
   "outputs": [
    {
     "name": "stdout",
     "output_type": "stream",
     "text": [
      "12\n"
     ]
    }
   ],
   "source": [
    "#2. Write a program that calculates the area of a rectangle given its length and width.\n",
    "length=int(input())\n",
    "width=int(input())\n",
    "\n",
    "rectangleArea=2*(length +width)\n",
    "\n",
    "print(rectangleArea)"
   ]
  },
  {
   "cell_type": "code",
   "execution_count": 8,
   "metadata": {},
   "outputs": [
    {
     "name": "stdout",
     "output_type": "stream",
     "text": [
      "-4.444444444444445\n"
     ]
    }
   ],
   "source": [
    "#3. Write a program that converts temperature from Fahrenheit to Celsius.\n",
    "\n",
    "Fahrenheit=int(input())\n",
    "\n",
    "Celsius=(((Fahrenheit - 32) * 5)/9)\n",
    "\n",
    "print(Celsius)"
   ]
  },
  {
   "cell_type": "code",
   "execution_count": 10,
   "metadata": {},
   "outputs": [
    {
     "name": "stdout",
     "output_type": "stream",
     "text": [
      "4188.790204786391\n"
     ]
    }
   ],
   "source": [
    "#4. Write a program that calculates the volume of a sphere given its radius.\n",
    "\n",
    "import math\n",
    "radius = int(input())\n",
    "Pi=math.pi\n",
    "volume=(4*Pi *(radius**3))/3\n",
    "print(volume)"
   ]
  },
  {
   "cell_type": "code",
   "execution_count": 11,
   "metadata": {},
   "outputs": [
    {
     "name": "stdout",
     "output_type": "stream",
     "text": [
      "2.0\n"
     ]
    }
   ],
   "source": [
    "#5. Write a program that finds the average of three numbers.\n",
    "number5_1 = int(input())\n",
    "number5_2 = int(input())\n",
    "number5_3 = int(input())\n",
    "\n",
    "average=(number5_1 + number5_2 + number5_3)/3\n",
    " \n",
    "print(average) "
   ]
  },
  {
   "cell_type": "code",
   "execution_count": 12,
   "metadata": {},
   "outputs": [
    {
     "name": "stdout",
     "output_type": "stream",
     "text": [
      "Odd\n"
     ]
    }
   ],
   "source": [
    "#6. Write a program that determines if a number is even or odd.\n",
    "\n",
    "inputNumber = int(input())\n",
    "if(inputNumber%2==0):\n",
    "    print(\"Even\")\n",
    "else:\n",
    "    print(\"Odd\")    "
   ]
  },
  {
   "cell_type": "code",
   "execution_count": 13,
   "metadata": {},
   "outputs": [
    {
     "name": "stdout",
     "output_type": "stream",
     "text": [
      "9\n"
     ]
    }
   ],
   "source": [
    "#7. Write a program that finds the maximum of three numbers.\n",
    "\n",
    "number7_1 = int(input())\n",
    "number7_2 = int(input())\n",
    "number7_3 = int(input())\n",
    "\n",
    "Max=max(number7_1,max(number7_2,number7_3))\n",
    "\n",
    "print(Max)"
   ]
  },
  {
   "cell_type": "code",
   "execution_count": 5,
   "metadata": {},
   "outputs": [
    {
     "name": "stdout",
     "output_type": "stream",
     "text": [
      "Leap Year\n"
     ]
    }
   ],
   "source": [
    "#8. Write a program that determines if a year is a leap year or not.\n",
    "\n",
    "Year = int(input())\n",
    "if (Year % 4 == 0 and Year % 100 != 0) or (Year % 400 == 0):\n",
    "    print(\"Leap Year\")\n",
    "else:\n",
    "    print(\"Not Leap Year\")  "
   ]
  },
  {
   "cell_type": "code",
   "execution_count": 14,
   "metadata": {},
   "outputs": [
    {
     "name": "stdout",
     "output_type": "stream",
     "text": [
      "Negative\n"
     ]
    }
   ],
   "source": [
    "#9. Write a program that determines if a number is positive, negative, or zero.\n",
    "\n",
    "number9 = int(input())\n",
    "if(number9>0):\n",
    "    print(\"positive\")\n",
    "\n",
    "elif(number9==0):\n",
    "    print(\"Zero\")\n",
    "\n",
    "else:\n",
    "    print(\"Negative\")        "
   ]
  },
  {
   "cell_type": "code",
   "execution_count": 12,
   "metadata": {},
   "outputs": [
    {
     "name": "stdout",
     "output_type": "stream",
     "text": [
      "A+\n"
     ]
    }
   ],
   "source": [
    "#10. Write a program that calculates the grade based on a given percentage.\n",
    "\n",
    "a10 = int(input())\n",
    "if a10 >= 80:\n",
    "    print(\"A+\")\n",
    "elif a10 >= 70 and a10 <= 79:\n",
    "    print(\"A\")    \n",
    "elif a10 >= 60 and a10 <= 69:\n",
    "    print(\"A-\")    \n",
    "elif a10 >= 50 and a10 <= 59:\n",
    "    print(\"B\")    \n",
    "elif a10 >= 40 and a10 <= 49:\n",
    "    print(\"C\")    \n",
    "elif a10 >= 33 and a10 <= 39:\n",
    "    print(\"D\")    \n",
    "else:\n",
    "    print(\"F\")    \n"
   ]
  },
  {
   "cell_type": "code",
   "execution_count": 10,
   "metadata": {},
   "outputs": [
    {
     "name": "stdout",
     "output_type": "stream",
     "text": [
      "1 , 2 , 3 , 4 , 5 "
     ]
    }
   ],
   "source": [
    "#11. Write a program that prints the first `n` natural numbers.\n",
    "\n",
    "naturalNumber = int(input())\n",
    "a11=naturalNumber+1\n",
    "for i in range(1,a11):\n",
    "    if i == a11 - 1:\n",
    "        print(i,end= \" \")\n",
    "    else:\n",
    "        print(i,end= \" , \")     "
   ]
  },
  {
   "cell_type": "code",
   "execution_count": 13,
   "metadata": {},
   "outputs": [
    {
     "name": "stdout",
     "output_type": "stream",
     "text": [
      "120\n"
     ]
    }
   ],
   "source": [
    "#12. Write a program that calculates the factorial of a number.\n",
    "\n",
    "a12 = int(input())\n",
    "\n",
    "def factorial(a12):\n",
    "    if (a12==0):\n",
    "        return 1\n",
    "    else:\n",
    "        return a12*factorial(a12 -1)\n",
    "b12 = factorial(a12)\n",
    "print(b12)\n"
   ]
  },
  {
   "cell_type": "code",
   "execution_count": 11,
   "metadata": {},
   "outputs": [
    {
     "name": "stdout",
     "output_type": "stream",
     "text": [
      "0 ,1 ,1 ,2\n"
     ]
    }
   ],
   "source": [
    "#13. Write a program that generates a Fibonacci sequence of length `n`.\n",
    "\n",
    "def Fibonacci(a13):\n",
    "    if a13 == 0:\n",
    "        return 0\n",
    "    if a13 == 1:\n",
    "        return 1\n",
    "    return Fibonacci(a13 -1 ) + Fibonacci(a13 - 2)\n",
    "a13 = int(input())\n",
    "for i in range(a13):\n",
    "    if i== a13 -1 :\n",
    "        print(Fibonacci(i))\n",
    "    else:\n",
    "        print(Fibonacci(i),end=\" ,\")    "
   ]
  },
  {
   "cell_type": "code",
   "execution_count": 5,
   "metadata": {},
   "outputs": [
    {
     "name": "stdout",
     "output_type": "stream",
     "text": [
      "2 is a prime number\n"
     ]
    }
   ],
   "source": [
    "#14. Write a program that checks if a given number is prime or not.\n",
    "\n",
    "a14 = int(input())\n",
    "b=True\n",
    "if a14 == 1:\n",
    "    b = False\n",
    "elif a14 == 2:\n",
    "    b = True\n",
    "else:\n",
    "    for i in range(2, int(a14**0.5) + 1):\n",
    "       if a14 % i == 0:\n",
    "          b=False\n",
    "          break        \n",
    "if b:\n",
    "    print(a14, \"is a prime number\")\n",
    "else:\n",
    "    print(a14, \"is not a prime number\")"
   ]
  },
  {
   "cell_type": "code",
   "execution_count": 13,
   "metadata": {},
   "outputs": [
    {
     "name": "stdout",
     "output_type": "stream",
     "text": [
      "10 x 1 = 10\n",
      "10 x 2 = 20\n",
      "10 x 3 = 30\n",
      "10 x 4 = 40\n",
      "10 x 5 = 50\n",
      "10 x 6 = 60\n",
      "10 x 7 = 70\n",
      "10 x 8 = 80\n",
      "10 x 9 = 90\n",
      "10 x 10 = 100\n"
     ]
    }
   ],
   "source": [
    "#15. Write a program that prints the multiplication table of a given number.\n",
    "\n",
    "def multiplication_table(n):\n",
    "    for i in range(1, 11):\n",
    "        print(f\"{n} x {i} = {n * i}\")\n",
    "\n",
    "a15 = int(input())\n",
    "multiplication_table(a15)"
   ]
  }
 ],
 "metadata": {
  "kernelspec": {
   "display_name": "Python 3",
   "language": "python",
   "name": "python3"
  },
  "language_info": {
   "codemirror_mode": {
    "name": "ipython",
    "version": 3
   },
   "file_extension": ".py",
   "mimetype": "text/x-python",
   "name": "python",
   "nbconvert_exporter": "python",
   "pygments_lexer": "ipython3",
   "version": "3.12.1"
  }
 },
 "nbformat": 4,
 "nbformat_minor": 2
}
