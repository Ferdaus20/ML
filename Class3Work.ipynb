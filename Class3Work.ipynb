{
 "cells": [
  {
   "cell_type": "markdown",
   "id": "0aeadedb-14e2-4c59-b784-438d758c1282",
   "metadata": {},
   "source": [
    "Basic Problems"
   ]
  },
  {
   "cell_type": "code",
   "execution_count": 1,
   "id": "694c6f23-41bf-499c-9d42-24b26bdf03d8",
   "metadata": {},
   "outputs": [
    {
     "name": "stdout",
     "output_type": "stream",
     "text": [
      "5 1\n"
     ]
    }
   ],
   "source": [
    "#1. Variable Swap: Write a Python program to swap the values of two variables without using a temporary variable.\n",
    " \n",
    "a1= int(input())\n",
    "b1= int(input())\n",
    "a1,b1 = b1, a1\n",
    "print(a1,b1)\n"
   ]
  },
  {
   "cell_type": "code",
   "execution_count": 2,
   "id": "c7528dc0-a82f-4572-93d8-dccab14b379d",
   "metadata": {},
   "outputs": [
    {
     "name": "stdout",
     "output_type": "stream",
     "text": [
      "Odd\n"
     ]
    }
   ],
   "source": [
    "#2. Even or Odd: Write a Python program that takes an integer as input and prints whether it is even or odd.\n",
    "\n",
    "a2 = int(input())\n",
    "if a2%2!=0:\n",
    "    print(\"Odd\")\n",
    "else:\n",
    "    print(\"Even\")\n"
   ]
  },
  {
   "cell_type": "code",
   "execution_count": 2,
   "id": "f6fb3bba-c1ed-48c7-9f7f-5e18606444c9",
   "metadata": {},
   "outputs": [
    {
     "name": "stdout",
     "output_type": "stream",
     "text": [
      "kl\n"
     ]
    }
   ],
   "source": [
    "#3. String Reverse: Write a Python function to reverse a given string and return the reversed string.\n",
    "def ReverseStr3(str):\n",
    "    Rev3= str[::-1]\n",
    "    return Rev3\n",
    "\n",
    "str3 = input()\n",
    "print(ReverseStr3(str3))\n",
    "\n"
   ]
  },
  {
   "cell_type": "code",
   "execution_count": 3,
   "id": "89824909-fb5a-429f-b942-8cac6db2f3e4",
   "metadata": {},
   "outputs": [
    {
     "name": "stdout",
     "output_type": "stream",
     "text": [
      "['1', '2']\n"
     ]
    }
   ],
   "source": [
    "#4. Type Conversion: Given a list of integers, write a Python program to convert each element of the list to a string.\n",
    "l4_int = []\n",
    "n4 = int(input())\n",
    "for i in range(n4):\n",
    "    a4 = int(input())\n",
    "    l4_int.append(a4)\n",
    "\n",
    "l4_Str = [str(i) for i in l4_int] \n",
    "print(l4_Str)   \n",
    "\n"
   ]
  },
  {
   "cell_type": "code",
   "execution_count": 4,
   "id": "979fc901-35ad-4865-bed0-0d8c0ad73119",
   "metadata": {},
   "outputs": [
    {
     "name": "stdout",
     "output_type": "stream",
     "text": [
      "113.0\n"
     ]
    }
   ],
   "source": [
    "#5. Temperature Converter: Write a Python program that converts a temperature in Celsius to Fahrenheit. Take the Celsius temperature as input from the user.\n",
    "\n",
    "Celsius=int(input())\n",
    "\n",
    "Fahrenheit=  ((9/5) *Celsius  ) + 32.\n",
    "\n",
    "print(Fahrenheit)\n"
   ]
  },
  {
   "cell_type": "code",
   "execution_count": 12,
   "id": "23057b00-1bbf-40f3-b9d0-b6c5828919a4",
   "metadata": {},
   "outputs": [
    {
     "name": "stdout",
     "output_type": "stream",
     "text": [
      "int\n",
      "float\n",
      "str\n",
      "list\n",
      "tuple\n",
      "dict\n",
      "set\n",
      "bool\n"
     ]
    }
   ],
   "source": [
    "#6. Data Type Checker: Write a Python function that takes a variable as input and returns the data type of the variable as a string (e.g., “int”, “float”, “str”, “list”, etc.).\n",
    "\n",
    "\n",
    "def get_data_type(variable):\n",
    "   \n",
    "    return type(variable).__name__\n",
    "\n",
    "print(get_data_type(42))           \n",
    "print(get_data_type(3.14))        \n",
    "print(get_data_type(\"Hello\"))     \n",
    "print(get_data_type([1, 2, 3]))    \n",
    "print(get_data_type((1, 2, 3)))    \n",
    "print(get_data_type({'a': 1}))    \n",
    "print(get_data_type({1, 2, 3}))   \n",
    "print(get_data_type(True))       \n"
   ]
  },
  {
   "cell_type": "code",
   "execution_count": 14,
   "id": "4e95f53c-fa3c-4f10-97cc-e0c5c1a4b4b5",
   "metadata": {},
   "outputs": [
    {
     "name": "stdout",
     "output_type": "stream",
     "text": [
      "No\n"
     ]
    }
   ],
   "source": [
    "#7. String Palindrome: Write a Python function to check if a given string is a palindrome or not.\n",
    "str7 = input( )\n",
    "is_palindrome = str7 [::-1]\n",
    "if str7 == is_palindrome :\n",
    "    print(\"Yes\")\n",
    "else:\n",
    "    print(\"No\") \n",
    "\n"
   ]
  },
  {
   "cell_type": "code",
   "execution_count": 15,
   "id": "e3e12cee-f3f2-4d3c-bfcf-75ccd1a9fc81",
   "metadata": {},
   "outputs": [
    {
     "name": "stdout",
     "output_type": "stream",
     "text": [
      "ew\n"
     ]
    }
   ],
   "source": [
    "#8. String Reversal with Slicing: Write a Python function to reverse a given string using slicing.\n",
    "\n",
    "str7 = input()\n",
    "print(str7[::-1])\n"
   ]
  },
  {
   "cell_type": "code",
   "execution_count": 18,
   "id": "31364aad-19f8-496b-8d15-236c9d20f233",
   "metadata": {},
   "outputs": [
    {
     "name": "stdout",
     "output_type": "stream",
     "text": [
      "hgkl\n"
     ]
    }
   ],
   "source": [
    "#9. String Concatenation: Write a Python program that takes two strings as input and concatenates them into a single string without using the `+` operator.\n",
    "stra9 = input()\n",
    "strb9 = input()\n",
    "strb9= \"\".join([stra9, strb9])\n",
    "print(strb9)\n"
   ]
  },
  {
   "cell_type": "code",
   "execution_count": 20,
   "id": "f856510e-cfda-4c45-9c3d-b5dace5bf6bd",
   "metadata": {},
   "outputs": [
    {
     "name": "stdout",
     "output_type": "stream",
     "text": [
      "114.5 is the answer\n"
     ]
    }
   ],
   "source": [
    "#10. Typecasting Challenge: Given three variables: `a = ‘100’`, `b = 25`, and `c = ‘10.5’`, write a Python program to perform the following operations and print the results: – Convert `a` to an integer and add it to `b`. – Convert `c` to a float and subtract it from the result of the first operation. – Convert the final result to a string and concatenate it with the string ” is the answer.”\n",
    "a10 = '100'\n",
    "b10 = 25\n",
    "c10 = '10.5'\n",
    "\n",
    "a10_int = int(a10)\n",
    "sumFrist2 = a10_int + b10\n",
    "c10_float = float(c10)\n",
    "sub10 = sumFrist2 - c10_float\n",
    " \n",
    "str10 = str(sub10) + \" is the answer\"\n",
    "print(str10) \n"
   ]
  },
  {
   "cell_type": "markdown",
   "id": "23ab56f2-8ef8-4e53-8413-8506c83cc867",
   "metadata": {},
   "source": [
    "Python Conditional Statements"
   ]
  },
  {
   "cell_type": "code",
   "execution_count": 21,
   "id": "33ed0d62-c006-44e4-af1b-2c0bec927646",
   "metadata": {},
   "outputs": [
    {
     "name": "stdout",
     "output_type": "stream",
     "text": [
      "Negative\n"
     ]
    }
   ],
   "source": [
    "#11. Positive, Negative, or Zero: Write a Python program that takes a number as input and prints whether it is positive, negative, or zero.\n",
    "number9 = int(input())\n",
    "if(number9>0):\n",
    "    print(\"positive\")\n",
    "\n",
    "elif(number9==0):\n",
    "    print(\"Zero\")\n",
    "\n",
    "else:\n",
    "    print(\"Negative\")   \n"
   ]
  },
  {
   "cell_type": "code",
   "execution_count": 22,
   "id": "41b60bcd-6635-4410-b2be-38c20be7c7a6",
   "metadata": {},
   "outputs": [
    {
     "name": "stdout",
     "output_type": "stream",
     "text": [
      "987\n"
     ]
    }
   ],
   "source": [
    "#12. Largest of Three Numbers: Write a Python program that takes three numbers as input and prints the largest among them.\n",
    "number7_1 = int(input())\n",
    "number7_2 = int(input())\n",
    "number7_3 = int(input())\n",
    "\n",
    "Max=max(number7_1,max(number7_2,number7_3))\n",
    "\n",
    "print(Max)\n"
   ]
  },
  {
   "cell_type": "code",
   "execution_count": 23,
   "id": "8f34deca-f67e-4a48-b76b-bdf201cf0acb",
   "metadata": {},
   "outputs": [
    {
     "name": "stdout",
     "output_type": "stream",
     "text": [
      "Leap Year\n"
     ]
    }
   ],
   "source": [
    "#13. Leap Year Checker: Write a Python program that takes a year as input and determines if it is a leap year or not.\n",
    "Year13 = int(input())\n",
    "if (Year13 % 4 == 0 and Year13 % 100 != 0) or (Year13 % 400 == 0):\n",
    "    print(\"Leap Year\")\n",
    "else:\n",
    "    print(\"Not Leap Year\")  "
   ]
  },
  {
   "cell_type": "code",
   "execution_count": 24,
   "id": "61f39b6f-1451-4491-8495-86c305a1b12e",
   "metadata": {},
   "outputs": [
    {
     "name": "stdout",
     "output_type": "stream",
     "text": [
      "F\n"
     ]
    }
   ],
   "source": [
    "#14. Grades Classification: Write a Python program that takes a student’s percentage as input and prints their corresponding grade according to the following criteria: – 90% or above: A+ – 80-89%: A – 70-79%: B – 60-69%: C – Below 60%: Fail\n",
    "a10 = int(input())\n",
    "if a10 >= 80:\n",
    "    print(\"A+\")\n",
    "elif a10 >= 70 and a10 <= 79:\n",
    "    print(\"A\")    \n",
    "elif a10 >= 60 and a10 <= 69:\n",
    "    print(\"A-\")    \n",
    "elif a10 >= 50 and a10 <= 59:\n",
    "    print(\"B\")    \n",
    "elif a10 >= 40 and a10 <= 49:\n",
    "    print(\"C\")    \n",
    "elif a10 >= 33 and a10 <= 39:\n",
    "    print(\"D\")    \n",
    "else:\n",
    "    print(\"F\")    \n",
    "\n"
   ]
  },
  {
   "cell_type": "code",
   "execution_count": 34,
   "id": "c5e9eee8-e416-4fb2-998c-650d85f4962b",
   "metadata": {},
   "outputs": [
    {
     "name": "stdout",
     "output_type": "stream",
     "text": [
      "Yes\n"
     ]
    }
   ],
   "source": [
    "#15. Vowel or Consonant: Write a Python program that takes a single character as input and determines whether it is a vowel or a consonant.\n",
    "def isVowel(char):\n",
    "    vowels = \"aeiouAEIOU\"\n",
    "    return char in vowels\n",
    "\n",
    "Char15 = input()\n",
    "is_vowel = isVowel(Char15)\n",
    "while len(Char15) != 1:\n",
    "    Char15 = input(\"Invalid input. Please enter exactly one character:\")\n",
    "\n",
    "\n",
    "if is_vowel :\n",
    "    print(\"Yes\")\n",
    "else:\n",
    "    print(\"No\")    \n"
   ]
  },
  {
   "cell_type": "code",
   "execution_count": 37,
   "id": "89aaa07b-0a6c-4600-b0d8-f3c3f38fab14",
   "metadata": {},
   "outputs": [
    {
     "name": "stdout",
     "output_type": "stream",
     "text": [
      "Good Morning\n"
     ]
    }
   ],
   "source": [
    "#16. Time Classification: Write a Python program that takes the time in hours (24-hour format) as input and prints “Good Morning”, “Good Afternoon”, “Good Evening”, or “Good Night” based on the time.\n",
    "def time_point(hour):\n",
    "    if 5 <= hour < 12:\n",
    "        return \"Good Morning\"\n",
    "    elif 12 <= hour < 17:\n",
    "        return \"Good Afternoon\"\n",
    "    elif 17 <= hour < 21:\n",
    "        return \"Good Evening\"\n",
    "    else:\n",
    "        return \"Good Night\"\n",
    "time_hour16 = int(input())\n",
    "print(time_point(time_hour16))    \n"
   ]
  },
  {
   "cell_type": "code",
   "execution_count": 38,
   "id": "8c0fc46a-bfb9-4c65-b074-94b9376beff2",
   "metadata": {},
   "outputs": [
    {
     "name": "stdout",
     "output_type": "stream",
     "text": [
      "Isosceles\n"
     ]
    }
   ],
   "source": [
    "#17. Triangle Type Checker: Write a Python program that takes three sides of a triangle as input and determines whether it forms an equilateral, isosceles, or scalene triangle.\n",
    "\n",
    "a17 = int(input())\n",
    "b17 = int(input())\n",
    "c17 = int(input())\n",
    "if (a17 == b17) and (b17 == c17):\n",
    "    print(\"Equilateral\")\n",
    "elif (a17 == b17) or (a17 == c17) or (b17 == c17):\n",
    "    print(\"Isosceles\")  \n",
    "else :\n",
    "    print(\"Scalene Triangle\")     \n",
    "\n"
   ]
  },
  {
   "cell_type": "code",
   "execution_count": 39,
   "id": "19094932-059d-4d80-9e1b-fd7f9375201c",
   "metadata": {},
   "outputs": [
    {
     "name": "stdout",
     "output_type": "stream",
     "text": [
      "The roots are real and different: -1.0 and -4.0\n"
     ]
    }
   ],
   "source": [
    "#18. Quadratic Equation Solver: Write a Python program that takes the coefficients (a, b, c) of a quadratic equation as input and calculates and prints the real roots (if they exist) or a message indicating the complex roots.\n",
    "\n",
    "import math\n",
    "def quadrati(a18 , b18, c18):\n",
    "    discriminant = b18**2 - 4* a18 * c18\n",
    "    if discriminant > 0 :\n",
    "        x18 = (-b18 + math.sqrt(discriminant))/ 2 * a18\n",
    "        y18 = (-b18 - math.sqrt(discriminant))/ 2 * a18\n",
    "        print(f\"The roots are real and different: {x18} and {y18}\")\n",
    "    elif discriminant == 0 :\n",
    "        x18 = (-b18 / 2 * a18 )\n",
    "        print(f\"The roots are real and equal: {x18}\") \n",
    "    else:\n",
    "        x18 = (-b18 / 2 * a18 )\n",
    "        y18 = math.sqrt(-discriminant)/2*a18\n",
    "        print(f\"The roots are complex: {x18} + {y18}i and {x18} - {y18}i\")    \n",
    "\n",
    "a18 = int(input())         \n",
    "b18 = int(input())         \n",
    "c18 = int(input()) \n",
    "quadrati(a18 , b18, c18)\n",
    "\n",
    "      \n"
   ]
  },
  {
   "cell_type": "code",
   "execution_count": 40,
   "id": "78ecb210-22f0-4264-8b0a-4b7f1e580f66",
   "metadata": {},
   "outputs": [
    {
     "name": "stdout",
     "output_type": "stream",
     "text": [
      "The number falls within the range 0-50.\n"
     ]
    }
   ],
   "source": [
    "#19. Number Ranges: Write a Python program that takes an integer as input and prints whether the number falls within the ranges: 0-50, 51-100, 101-150, or above 150.\n",
    "\n",
    "def number_ranges(n):\n",
    "    if n >= 0 and n <= 50:\n",
    "        print(\"The number falls within the range 0-50.\")\n",
    "    elif n >= 51 and n <= 100:\n",
    "        print(\"The number falls within the range 51-100.\")  \n",
    "    elif n >= 101 and n <= 150:\n",
    "        print(\"The number falls within the range 101-150.\")  \n",
    "    else:\n",
    "        print(\"The number is above 150.\")\n",
    "\n",
    "a19 = int(input()) \n",
    "number_ranges(a19)             \n",
    " \n",
    "\n"
   ]
  },
  {
   "cell_type": "markdown",
   "id": "9ecb0ed9-3482-4231-9c8d-0c9f6bb4eec6",
   "metadata": {},
   "source": [
    "For & While Loops\n"
   ]
  },
  {
   "cell_type": "code",
   "execution_count": 42,
   "id": "dbb91384-d3be-400a-9566-389630fab83b",
   "metadata": {},
   "outputs": [
    {
     "name": "stdout",
     "output_type": "stream",
     "text": [
      "6\n"
     ]
    }
   ],
   "source": [
    "#20. Sum of N Numbers: Write a Python program using a for loop to calculate the sum of the first N natural numbers, where N is taken as input from the user.\n",
    "a20 = int(input())\n",
    "sum20 = 0\n",
    "for i in range(1, a20 + 1):\n",
    "    sum20 += i\n",
    "\n",
    "print(sum20)    "
   ]
  },
  {
   "cell_type": "code",
   "execution_count": 44,
   "id": "fbccb318-8bd6-4d74-a75b-74de047a7e9b",
   "metadata": {},
   "outputs": [
    {
     "name": "stdout",
     "output_type": "stream",
     "text": [
      "120\n"
     ]
    }
   ],
   "source": [
    "#21. Factorial Calculator: Write a Python program using a while loop to calculate the factorial of a given number N.\n",
    "\n",
    "a21 = int(input()) +1\n",
    "factorial21 = 1\n",
    "i=1\n",
    "while i < a21 :\n",
    "    factorial21 *= i\n",
    "    i +=1\n",
    "print(factorial21)    \n"
   ]
  },
  {
   "cell_type": "code",
   "execution_count": 45,
   "id": "6b9e47b2-f30f-4a86-8c64-75e4a63fbd94",
   "metadata": {},
   "outputs": [
    {
     "name": "stdout",
     "output_type": "stream",
     "text": [
      "4 x 1 = 4\n",
      "4 x 2 = 8\n",
      "4 x 3 = 12\n",
      "4 x 4 = 16\n",
      "4 x 5 = 20\n",
      "4 x 6 = 24\n",
      "4 x 7 = 28\n",
      "4 x 8 = 32\n",
      "4 x 9 = 36\n",
      "4 x 10 = 40\n"
     ]
    }
   ],
   "source": [
    "#22. Table of a Number: Write a Python program using a for loop to print the multiplication table of a given number N.\n",
    "\n",
    "def multiplication_table(n):\n",
    "    for i in range(1, 11):\n",
    "        print(f\"{n} x {i} = {n * i}\")\n",
    "\n",
    "a22 = int(input())\n",
    "multiplication_table(a22)\n"
   ]
  },
  {
   "cell_type": "code",
   "execution_count": 47,
   "id": "af4e8ec6-0d3a-4aff-b978-f81c8b666eac",
   "metadata": {},
   "outputs": [
    {
     "name": "stdout",
     "output_type": "stream",
     "text": [
      "3\n"
     ]
    }
   ],
   "source": [
    "#23. Count Digits in a Number: Write a Python program using a while loop to count the number of digits in a given integer N.\n",
    "number23 = int(input())\n",
    "count23 = 0\n",
    "number23 = abs(number23)\n",
    "\n",
    "if number23 == 0 :\n",
    "    print(\"1\")\n",
    "else:\n",
    "    i=1\n",
    "    while number23 > 0:  \n",
    "        number23 //= 10\n",
    "        count23 += 1\n",
    "        i += 1\n",
    "    print(count23)       \n",
    "\n",
    "\n"
   ]
  },
  {
   "cell_type": "code",
   "execution_count": 48,
   "id": "70fa7f2e-e4f3-4d31-a090-93b4eb0736f3",
   "metadata": {},
   "outputs": [
    {
     "name": "stdout",
     "output_type": "stream",
     "text": [
      "0 ,1 ,1\n"
     ]
    }
   ],
   "source": [
    "#24. Fibonacci Sequence: Write a Python program using a for loop to generate the Fibonacci sequence up to a given limit N.\n",
    "\n",
    "def  Fibonacci(a24):\n",
    "    sequence = []\n",
    "    b24 , c24 = 0 , 1\n",
    "    for _ in range(a24):\n",
    "        sequence.append(b24)\n",
    "        b24 , c24 = c24 , b24 + c24\n",
    "    return sequence    \n",
    "a24 = int(input())\n",
    "fibonacci_sequence = Fibonacci(a24)\n",
    "for i in range(a24):\n",
    "    if i== a24 -1 :\n",
    "        print(fibonacci_sequence[i])\n",
    "    else:\n",
    "        print(fibonacci_sequence[i],end=\" ,\") "
   ]
  },
  {
   "cell_type": "code",
   "execution_count": 50,
   "id": "147b930f-6dde-40d7-b343-eb8cc7b455c1",
   "metadata": {},
   "outputs": [
    {
     "name": "stdout",
     "output_type": "stream",
     "text": [
      "6\n"
     ]
    }
   ],
   "source": [
    "#25. Sum of Even Numbers: Write a Python program using a while loop to calculate the sum of all even numbers between 1 and N, where N is taken as input from the user.\n",
    "a25 = int(input())\n",
    "sum25 = 0\n",
    "i=1\n",
    "while i<= a25 :\n",
    "    if i % 2 != 1:\n",
    "        sum25 += i\n",
    "    i +=1\n",
    "print(sum25)        \n"
   ]
  },
  {
   "cell_type": "code",
   "execution_count": null,
   "id": "c69dcfbb-e642-45d9-aae4-8983907b243f",
   "metadata": {},
   "outputs": [],
   "source": [
    "#26. Print Patterns: Write a Python program using nested for loops to print various patterns, such as a right-angled triangle, an inverted right-angled triangle, and so on.\n",
    "\n"
   ]
  },
  {
   "cell_type": "code",
   "execution_count": 51,
   "id": "e8613caf-65ed-40fe-829f-ee4dc282a5d5",
   "metadata": {},
   "outputs": [
    {
     "name": "stdout",
     "output_type": "stream",
     "text": [
      "5 is a prime number\n"
     ]
    }
   ],
   "source": [
    "#27. Prime Number Checker: Write a Python program using a while loop to check if a given number N is prime or not.\n",
    "\n",
    "a14 = int(input())\n",
    "b=True\n",
    "if a14 == 1:\n",
    "    b = False\n",
    "elif a14 == 2:\n",
    "    b = True\n",
    "else:\n",
    "    i=2\n",
    "    while i <=  int(a14**0.5) + 1:\n",
    "       if a14 % i == 0:\n",
    "          b=False\n",
    "          break \n",
    "       i +=1       \n",
    "if b:\n",
    "    print(a14, \"is a prime number\")\n",
    "else:\n",
    "    print(a14, \"is not a prime number\")"
   ]
  },
  {
   "cell_type": "code",
   "execution_count": 56,
   "id": "c2d3d468-6c70-4391-99f6-499fe8a311d8",
   "metadata": {},
   "outputs": [
    {
     "name": "stdout",
     "output_type": "stream",
     "text": [
      "Sum=95272\n",
      "AVERAGE=8661.09090909091\n",
      "MAX=90876\n",
      "MIN=1\n"
     ]
    }
   ],
   "source": [
    "#28. List Manipulation: Given a list of integers, write a Python program using a for loop to find the sum, average, maximum, and minimum values in the list.\n",
    "l28 = [1,2,4,5,6,14,54,65,789,90876,3456]\n",
    "sum28 = 0\n",
    "Max28 = -1e5\n",
    "Min28 = 1e5\n",
    "total_iteams28 = len(l28)\n",
    "for i in l28:\n",
    "    sum28 +=i\n",
    "    Max28 = max(Max28 , i)\n",
    "    Min28 = min(Min28 , i)\n",
    "\n",
    "Average28 = sum28 / total_iteams28\n",
    "print(f\"Sum={sum28}\") \n",
    "print(f\"AVERAGE={Average28}\")   \n",
    "print(f\"MAX={Max28}\")    \n",
    "print(f\"MIN={Min28}\")    \n",
    "    \n",
    "   \n",
    "\n",
    "\n"
   ]
  },
  {
   "cell_type": "code",
   "execution_count": 60,
   "id": "259e55a4-4882-4014-9f1e-7268c192d492",
   "metadata": {},
   "outputs": [
    {
     "name": "stdout",
     "output_type": "stream",
     "text": [
      "kj\n"
     ]
    }
   ],
   "source": [
    "#29. Reverse String: Write a Python program using a while loop to reverse a given string.\n",
    "\n",
    "stra29 = input()\n",
    "strb29 = \"\"\n",
    "str_len29 = len(stra29) - 1\n",
    "while str_len29 >= 0:\n",
    "    strb29 += stra29[str_len29]\n",
    "    str_len29 -= 1\n",
    "print(strb29)    \n",
    "\n",
    "\n"
   ]
  },
  {
   "cell_type": "markdown",
   "id": "c189b03f-7958-4738-af1f-03128238be9f",
   "metadata": {},
   "source": [
    "Nested Loops:\n"
   ]
  },
  {
   "cell_type": "code",
   "execution_count": 65,
   "id": "90be3272-f7f9-41c7-9b9c-587fc45df375",
   "metadata": {},
   "outputs": [
    {
     "name": "stdout",
     "output_type": "stream",
     "text": [
      " 1 * 1 =  1\t 1 * 2 =  2\t 1 * 3 =  3\t 1 * 4 =  4\t 1 * 5 =  5\t 1 * 6 =  6\t 1 * 7 =  7\t 1 * 8 =  8\t 1 * 9 =  9\t 1 * 10 =  10\t\n",
      " 2 * 1 =  2\t 2 * 2 =  4\t 2 * 3 =  6\t 2 * 4 =  8\t 2 * 5 =  10\t 2 * 6 =  12\t 2 * 7 =  14\t 2 * 8 =  16\t 2 * 9 =  18\t 2 * 10 =  20\t\n",
      " 3 * 1 =  3\t 3 * 2 =  6\t 3 * 3 =  9\t 3 * 4 =  12\t 3 * 5 =  15\t 3 * 6 =  18\t 3 * 7 =  21\t 3 * 8 =  24\t 3 * 9 =  27\t 3 * 10 =  30\t\n",
      " 4 * 1 =  4\t 4 * 2 =  8\t 4 * 3 =  12\t 4 * 4 =  16\t 4 * 5 =  20\t 4 * 6 =  24\t 4 * 7 =  28\t 4 * 8 =  32\t 4 * 9 =  36\t 4 * 10 =  40\t\n",
      " 5 * 1 =  5\t 5 * 2 =  10\t 5 * 3 =  15\t 5 * 4 =  20\t 5 * 5 =  25\t 5 * 6 =  30\t 5 * 7 =  35\t 5 * 8 =  40\t 5 * 9 =  45\t 5 * 10 =  50\t\n",
      " 6 * 1 =  6\t 6 * 2 =  12\t 6 * 3 =  18\t 6 * 4 =  24\t 6 * 5 =  30\t 6 * 6 =  36\t 6 * 7 =  42\t 6 * 8 =  48\t 6 * 9 =  54\t 6 * 10 =  60\t\n",
      " 7 * 1 =  7\t 7 * 2 =  14\t 7 * 3 =  21\t 7 * 4 =  28\t 7 * 5 =  35\t 7 * 6 =  42\t 7 * 7 =  49\t 7 * 8 =  56\t 7 * 9 =  63\t 7 * 10 =  70\t\n",
      " 8 * 1 =  8\t 8 * 2 =  16\t 8 * 3 =  24\t 8 * 4 =  32\t 8 * 5 =  40\t 8 * 6 =  48\t 8 * 7 =  56\t 8 * 8 =  64\t 8 * 9 =  72\t 8 * 10 =  80\t\n",
      " 9 * 1 =  9\t 9 * 2 =  18\t 9 * 3 =  27\t 9 * 4 =  36\t 9 * 5 =  45\t 9 * 6 =  54\t 9 * 7 =  63\t 9 * 8 =  72\t 9 * 9 =  81\t 9 * 10 =  90\t\n",
      " 10 * 1 =  10\t 10 * 2 =  20\t 10 * 3 =  30\t 10 * 4 =  40\t 10 * 5 =  50\t 10 * 6 =  60\t 10 * 7 =  70\t 10 * 8 =  80\t 10 * 9 =  90\t 10 * 10 =  100\t\n"
     ]
    }
   ],
   "source": [
    "#30. Multiplication Table: Write a Python program using nested loops to print the multiplication table from 1 to 10.\n",
    "for i in range(1,11):\n",
    "    for j in range(1,11):\n",
    "        print(f\" {i} * {j} =  { i * j }\",end=\"\\t\")\n",
    "    print()    "
   ]
  },
  {
   "cell_type": "code",
   "execution_count": 67,
   "id": "821f94ca-8d48-49b8-8ca1-146a7b9a0606",
   "metadata": {},
   "outputs": [
    {
     "name": "stdout",
     "output_type": "stream",
     "text": [
      "\n",
      "*\n",
      "**\n",
      "***\n",
      "****\n",
      "*****\n"
     ]
    }
   ],
   "source": [
    "'''31. Print Patterns: Write a Python program using nested loops to print the following pattern:\n",
    "\n",
    "*\n",
    "\n",
    "**\n",
    "\n",
    "***\n",
    "\n",
    "****\n",
    "\n",
    "*****'''\n",
    "for i in range(6):\n",
    "    for j in range(i):\n",
    "        print(\"*\",end=\"\")\n",
    "    print()    \n",
    "\n",
    "   \n"
   ]
  },
  {
   "cell_type": "code",
   "execution_count": null,
   "id": "c7fa4172-0510-4ef5-98d3-5ee7bc03edbd",
   "metadata": {},
   "outputs": [],
   "source": [
    "#32. Matrix Multiplication: Write a Python program using nested loops to multiply two matrices.\n",
    "\n"
   ]
  },
  {
   "cell_type": "code",
   "execution_count": null,
   "id": "57ffdca8-ede7-4dfc-8552-449af984d8f4",
   "metadata": {},
   "outputs": [],
   "source": [
    "#33. Chessboard Pattern: Write a Python program using nested loops to print a chessboard pattern (alternating “X” and “O” characters) of size 8×8.34. Number Pyramid: Write a Python program using nested loops to print a number pyramid like the following: 1 22 333 4444 55555\n",
    "\n",
    " \n",
    "\n"
   ]
  },
  {
   "cell_type": "markdown",
   "id": "d6233245-4a4e-44d1-91bb-c15ba92d474b",
   "metadata": {},
   "source": [
    "List Problems:\n"
   ]
  },
  {
   "cell_type": "code",
   "execution_count": 68,
   "id": "34564e3c-791a-4e39-8490-6ce98be2b94f",
   "metadata": {},
   "outputs": [
    {
     "name": "stdout",
     "output_type": "stream",
     "text": [
      "Sum=95272\n"
     ]
    }
   ],
   "source": [
    "#34. List Sum: Write a Python program to find the sum of all elements in a given list of integers.\n",
    "l34 = [1,2,4,5,6,14,54,65,789,90876,3456]\n",
    "sum34 = 0\n",
    "\n",
    "total_iteams34 = len(l34)\n",
    "for i in l34:\n",
    "    sum34 +=i\n",
    "    \n",
    "print(f\"Sum={sum34}\") \n",
    "  \n",
    "\n"
   ]
  },
  {
   "cell_type": "code",
   "execution_count": 69,
   "id": "6ba3d862-1314-4fe0-a698-9c21d5bef647",
   "metadata": {},
   "outputs": [
    {
     "name": "stdout",
     "output_type": "stream",
     "text": [
      "AVERAGE=8661.09090909091\n"
     ]
    }
   ],
   "source": [
    "#35. List Average: Write a Python program to calculate the average of all elements in a given list of integers.\n",
    "\n",
    "l35 = [1,2,4,5,6,14,54,65,789,90876,3456]\n",
    "sum35 = 0\n",
    "\n",
    "total_iteams35 = len(l35)\n",
    "for i in l35:\n",
    "    sum35 +=i\n",
    "\n",
    "Average35 = sum35 / total_iteams35 \n",
    "print(f\"AVERAGE={Average35}\")     "
   ]
  },
  {
   "cell_type": "code",
   "execution_count": 72,
   "id": "c4fb8fbc-1bd0-4a49-81dd-a7286c9051e4",
   "metadata": {},
   "outputs": [
    {
     "name": "stdout",
     "output_type": "stream",
     "text": [
      "90876\n",
      "0\n"
     ]
    }
   ],
   "source": [
    "#36. List Max and Min: Write a Python program to find the maximum and minimum values in a given list of integers.\n",
    "\n",
    "l36 = [1,2,4,0,5,6,14,54,65,789,90876,3456]\n",
    "print(max(l36))\n",
    "print(min(l36))\n",
    "\n",
    "  "
   ]
  },
  {
   "cell_type": "code",
   "execution_count": 73,
   "id": "09b4f7a0-aac5-4e03-b9a2-02568606f4b7",
   "metadata": {},
   "outputs": [
    {
     "data": {
      "text/plain": [
       "[0, 1, 2, 4, 5, 6, 14, 54, 65, 789, 3456, 90876]"
      ]
     },
     "execution_count": 73,
     "metadata": {},
     "output_type": "execute_result"
    }
   ],
   "source": [
    "#37. List Sorting: Write a Python program to sort a list of integers in ascending order.\n",
    "l37 = [1,2,4,0,5,6,14,54,65,789,90876,3456]\n",
    "sorted(l37)\n"
   ]
  },
  {
   "cell_type": "code",
   "execution_count": 76,
   "id": "aefd8124-ff83-4c2f-88a2-b059d5df0ee3",
   "metadata": {},
   "outputs": [
    {
     "name": "stdout",
     "output_type": "stream",
     "text": [
      "[2, 4, 0, 6, 14, 54, 90876, 3456]\n"
     ]
    }
   ],
   "source": [
    "#38. List Filtering: Given a list of integers, write a Python program to create a new list that contains only the even numbers from the original list.\n",
    "l38 = [1,2,4,0,5,6,14,54,65,789,90876,3456]\n",
    "new_l38 = [i for i in l38 if i % 2 == 0]\n",
    "print(new_l38)\n"
   ]
  },
  {
   "cell_type": "code",
   "execution_count": 78,
   "id": "c273507b-5f04-4bf9-9252-9ed6732fb988",
   "metadata": {},
   "outputs": [
    {
     "name": "stdout",
     "output_type": "stream",
     "text": [
      "[3456, 90876, 789, 65, 54, 14, 6, 5, 0, 4, 2, 1]\n"
     ]
    }
   ],
   "source": [
    "#39. List Reversal: Write a Python program to reverse a given list without using any built-in functions.\n",
    "l39 = [1,2,4,0,5,6,14,54,65,789,90876,3456]\n",
    "reversal_l39 = []\n",
    "len_39 = len(l39)\n",
    "for i in range(len_39-1, -1 , -1):\n",
    "    reversal_l39.append(l39[i])\n",
    "print(reversal_l39)    \n"
   ]
  },
  {
   "cell_type": "code",
   "execution_count": 80,
   "id": "17df6383-a212-47c3-bc3e-e20a63760782",
   "metadata": {},
   "outputs": [
    {
     "name": "stdout",
     "output_type": "stream",
     "text": [
      "[1, 2, 4, 0, 5, 6, 14, 54, 65, 789, 90876, 3456]\n"
     ]
    }
   ],
   "source": [
    "#40. List Manipulation: Given two lists of integers, write a Python program to create a new list that contains elements common to both lists.\n",
    "l40 = [1,2,4,0,5,6,14,54,65,789,90876,3456]\n",
    "new_40 = l40.copy()\n",
    "print(new_40)\n"
   ]
  },
  {
   "cell_type": "code",
   "execution_count": 81,
   "id": "e05d0a14-9a0d-4e92-8c57-806ab74938fe",
   "metadata": {},
   "outputs": [
    {
     "name": "stdout",
     "output_type": "stream",
     "text": [
      "3\n"
     ]
    }
   ],
   "source": [
    "#41. List Element Count: Write a Python program to count the occurrences of a specific element in a given list.\n",
    "l41 = [1,2,4,0,5,6,14,54,65,54,789,90876,3456,54]\n",
    "print(l41.count(54))"
   ]
  },
  {
   "cell_type": "code",
   "execution_count": 85,
   "id": "71276be2-6969-4107-8905-84f8d69f6e4a",
   "metadata": {},
   "outputs": [
    {
     "name": "stdout",
     "output_type": "stream",
     "text": [
      "[0, 1, 2, 4, 5, 6, 14, 54, 65, 789, 3456]\n"
     ]
    }
   ],
   "source": [
    "#42. List Duplicates Removal: Write a Python program to remove duplicates from a given list while preserving the order of the elements.\n",
    "\n",
    "l42 = [1,2,4,0,5,6,14,54,65,54,789,90876,3456,54]\n",
    "l42 = sorted(l42)\n",
    "remove_duplicates42 = [] \n",
    "for i in range(len(l42)-1):\n",
    "    if l42[i] != l42[i+1]:\n",
    "        remove_duplicates42.append(l42[i])\n",
    "print( remove_duplicates42)        \n"
   ]
  },
  {
   "cell_type": "code",
   "execution_count": 87,
   "id": "1477a006-3aa0-46bc-b3a8-15eb8d8957c7",
   "metadata": {},
   "outputs": [
    {
     "name": "stdout",
     "output_type": "stream",
     "text": [
      "[1, 4, 16, 0, 25, 36, 196, 2916, 4225, 2916, 622521, 8258447376, 11943936, 2916]\n"
     ]
    }
   ],
   "source": [
    "#43. List Comprehension: Given a list of integers, write a Python program to create a new list that contains the squares of the elements using list comprehension.\n",
    "l43 = [1,2,4,0,5,6,14,54,65,54,789,90876,3456,54]\n",
    "squares_elements43 = [i**2 for i in l43]\n",
    "\n",
    "print(squares_elements43)"
   ]
  },
  {
   "cell_type": "markdown",
   "id": "46792e5c-fd28-4baf-a91a-da8df3029939",
   "metadata": {},
   "source": [
    "Nested List Problems:\n"
   ]
  },
  {
   "cell_type": "code",
   "execution_count": null,
   "id": "ddf2b123-617b-4314-a4e4-90829d351092",
   "metadata": {},
   "outputs": [],
   "source": [
    "#44. Matrix Addition: Write a Python program to add two matrices represented as nested lists.\n",
    "\n"
   ]
  },
  {
   "cell_type": "code",
   "execution_count": null,
   "id": "7ee09e2e-4cde-4bbc-8ff1-d35ab51ddff3",
   "metadata": {},
   "outputs": [],
   "source": [
    "#45. Flatten Nested List: Write a Python program to flatten a given nested list and convert it into a single-dimensional list.\n",
    "\n"
   ]
  },
  {
   "cell_type": "code",
   "execution_count": null,
   "id": "419d5648-ae09-4d7f-94f4-f79dc6f04046",
   "metadata": {},
   "outputs": [],
   "source": [
    "#46. List Element Frequency: Given a nested list containing lists of integers, write a Python program to count the frequency of each element in the entire nested list.\n",
    "\n"
   ]
  },
  {
   "cell_type": "code",
   "execution_count": null,
   "id": "954f7285-ce15-4fbf-ab04-8ae194221bd2",
   "metadata": {},
   "outputs": [],
   "source": [
    "#47. Transpose Matrix: Write a Python program to transpose a given matrix represented as a nested list.\n",
    "\n"
   ]
  },
  {
   "cell_type": "code",
   "execution_count": null,
   "id": "0989e577-8e56-4464-96c1-cceb71d86b1f",
   "metadata": {},
   "outputs": [],
   "source": [
    "#48. List of Lists Concatenation: Given a list of nested lists, write a Python program to concatenate all the sublists into a single flat list.\n",
    "\n",
    " \n",
    "\n"
   ]
  },
  {
   "cell_type": "markdown",
   "id": "a87186c5-6ba5-4181-80ec-4032bc5d69ba",
   "metadata": {},
   "source": [
    "Tuple Problems:\n"
   ]
  },
  {
   "cell_type": "code",
   "execution_count": 1,
   "id": "ed9b5a84-94b9-47fa-a97c-23436024252a",
   "metadata": {},
   "outputs": [
    {
     "name": "stdout",
     "output_type": "stream",
     "text": [
      "(1, 5, 4, 3, 67, 89, 34, 11, 25, 344, 53, 667, 789, 634)\n"
     ]
    }
   ],
   "source": [
    "#49. Tuple Concatenation: Write a Python program to concatenate two tuples and create a new tuple.\n",
    "\n",
    "Tuplea49 = (1,5,4,3,67,89,34)\n",
    "Tupleb49 = (11,25,344,53,667,789,634)\n",
    "sum_Tuple49 = Tuplea49 + Tupleb49\n",
    "print(sum_Tuple49)"
   ]
  },
  {
   "cell_type": "code",
   "execution_count": 9,
   "id": "b2c884b6-a1af-4968-b6d1-44295c020f31",
   "metadata": {},
   "outputs": [
    {
     "name": "stdout",
     "output_type": "stream",
     "text": [
      "x:10\n",
      "y:25\n",
      "z:634\n"
     ]
    }
   ],
   "source": [
    "#50. Tuple Unpacking: Given a tuple with three elements (x, y, z), write a Python program to unpack the tuple and assign the values to three variables.\n",
    "\n",
    "fruits50 = (10,25,634)\n",
    "\n",
    "(x, y, z) = fruits50\n",
    "\n",
    "print(f\"x:{x}\")\n",
    "print(f\"y:{y}\")\n",
    "print(f\"z:{z}\")\n"
   ]
  },
  {
   "cell_type": "code",
   "execution_count": 10,
   "id": "9542919b-94d1-4891-8356-2257b3301eec",
   "metadata": {},
   "outputs": [
    {
     "name": "stdout",
     "output_type": "stream",
     "text": [
      "[8, 9, 21, 45, 45, 56, 67, 76, 78, 90, 98, 98, 98]\n"
     ]
    }
   ],
   "source": [
    "#51. Tuple Sorting: Write a Python program to sort a tuple of integers in ascending order.\n",
    "\n",
    "Tuple51 = (45,78,56,90,21,45,8,76,98,9,98,67,98)\n",
    "Tuple_Sorting50 = sorted(Tuple51)\n",
    "print(Tuple_Sorting50)"
   ]
  },
  {
   "cell_type": "code",
   "execution_count": 11,
   "id": "7b734ad1-cc32-4ae4-a848-fe1a1ff05ada",
   "metadata": {},
   "outputs": [
    {
     "name": "stdout",
     "output_type": "stream",
     "text": [
      "2\n"
     ]
    }
   ],
   "source": [
    "#52. Tuple Frequency Count: Given a tuple containing various elements, write a Python program to count the frequency of a specific element in the tuple.\n",
    "Tuple52 = (45,78,56,90,21,45,8,76,98,9,98,67,98)\n",
    "print(Tuple52.count(45))\n"
   ]
  },
  {
   "cell_type": "code",
   "execution_count": 12,
   "id": "51fe38b9-1fbf-4955-aa8e-faa449d801d7",
   "metadata": {},
   "outputs": [
    {
     "name": "stdout",
     "output_type": "stream",
     "text": [
      "<class 'list'>\n"
     ]
    }
   ],
   "source": [
    "#53. Tuple to List: Write a Python program to convert a tuple into a list.\n",
    "Tuple53 = (45,78,56,90,21,45,8,76,98,9,98,67,98)\n",
    "Tuple_to_List53 = list(Tuple53)\n",
    "print(type(Tuple_to_List53))\n"
   ]
  },
  {
   "cell_type": "code",
   "execution_count": 34,
   "id": "a802d387-6ccf-4491-b24d-9aefa9bb9a4a",
   "metadata": {},
   "outputs": [
    {
     "name": "stdout",
     "output_type": "stream",
     "text": [
      "(98, 67, 98, 9, 98, 76, 8, 45, 21, 90, 56, 78, 45)\n"
     ]
    }
   ],
   "source": [
    "#54. Tuple Reversal: Write a Python program to reverse a tuple without using any built-in functions.\n",
    "Tuple54 = (45,78,56,90,21,45,8,76,98,9,98,67,98)\n",
    "list54 = list(Tuple54)\n",
    "#list54.reverse()\n",
    "list54_len = len(list54)\n",
    "list_rever54 = []\n",
    "for i in range(list54_len -1, -1 , -1 ):\n",
    "    list_rever54.append(list54[i])\n",
    "\n",
    "Tuple_Reversal54 = tuple(list_rever54)\n",
    "\n",
    "print(Tuple_Reversal54)\n"
   ]
  },
  {
   "cell_type": "code",
   "execution_count": 23,
   "id": "d87a6b1c-0c91-4c11-b805-623120e826db",
   "metadata": {},
   "outputs": [
    {
     "name": "stdout",
     "output_type": "stream",
     "text": [
      "(45, 8, 98)\n"
     ]
    }
   ],
   "source": [
    "#55. Tuple Slicing: Given a tuple, write a Python program to extract a slice of elements from it.\n",
    "Tuple55 = (45,78,56,90,21,45,8,76,98,9,98,67,98)\n",
    "print(Tuple55[::6])"
   ]
  },
  {
   "cell_type": "code",
   "execution_count": 39,
   "id": "0340f533-cdc9-41d7-abd8-6af21c5cb31f",
   "metadata": {},
   "outputs": [
    {
     "name": "stdout",
     "output_type": "stream",
     "text": [
      "(523, 256, 512, 280, 142, 590, 86, 252)\n",
      "(-433, -100, -400, -100, -100, -500, -70, -100)\n",
      "(21510, 13884, 25536, 17100, 2541, 24525, 624, 13376)\n"
     ]
    }
   ],
   "source": [
    "#56. Tuple Operations: Given two tuples of integers, write a Python program to perform element-wise addition, subtraction, and multiplication and create new tuples for each operation.\n",
    "Tuplea56 = (45,78,56,90,21,45,8,76)\n",
    "Tupleb56 = (478,178,456,190,121,545,78,176)\n",
    "Tuplea56_list = list(Tuplea56)\n",
    "Tupleb56_list = list(Tupleb56)\n",
    "\n",
    "element_wise_addition = [i+j for i , j in zip (Tuplea56_list , Tupleb56_list)]\n",
    "element_wise_subtraction = [i-j for i , j in zip( Tuplea56_list , Tupleb56_list)]\n",
    "element_wise_multiplication = [i*j for i , j in zip( Tuplea56_list , Tupleb56_list)]\n",
    "print(tuple(element_wise_addition))\n",
    "print(tuple(element_wise_subtraction))\n",
    "print(tuple(element_wise_multiplication))\n",
    "\n"
   ]
  },
  {
   "cell_type": "code",
   "execution_count": 41,
   "id": "017ae353-9cd8-4717-997e-056694d6ecab",
   "metadata": {},
   "outputs": [
    {
     "name": "stdout",
     "output_type": "stream",
     "text": [
      "Yes\n"
     ]
    }
   ],
   "source": [
    "#57. Tuple Membership Test: Write a Python program that takes an element as input and checks if it exists in a given tuple.\n",
    "Tuplea57 = (45,78,56,90,21,45,8,76)\n",
    "a57 =int(input()) \n",
    "if a57 in Tuplea57:\n",
    "    print(\"Yes\")\n",
    "else:\n",
    "    print(\"No\")    "
   ]
  },
  {
   "cell_type": "code",
   "execution_count": 1,
   "id": "2f0d0b82-d051-4aeb-bc42-921c0ddd34a3",
   "metadata": {},
   "outputs": [
    {
     "name": "stdout",
     "output_type": "stream",
     "text": [
      "(1, 4, 5)\n"
     ]
    }
   ],
   "source": [
    "#58. Tuple Packing: Write a Python program to pack three variables into a single tuple and print the tuple.\n",
    "list58 =[]\n",
    "for i in range(3):\n",
    "    a= int(input())\n",
    "    list58.append(a)\n",
    "print(tuple(list58))    \n",
    " "
   ]
  },
  {
   "cell_type": "markdown",
   "id": "9655caee-57aa-450a-8ef9-f7d5a1c7308c",
   "metadata": {},
   "source": [
    "Nested List Problems:\n",
    "\n"
   ]
  },
  {
   "cell_type": "code",
   "execution_count": 4,
   "id": "7ff85a72-baca-4115-8b1c-7d8761628fd6",
   "metadata": {},
   "outputs": [
    {
     "name": "stdout",
     "output_type": "stream",
     "text": [
      "1 , 2 , 3 , \n",
      "32 , 89 , 78 , \n",
      "58 , 56 , 58 , \n"
     ]
    }
   ],
   "source": [
    "#59. Nested List Element Access: Given a nested list, write a Python program to access and print specific elements from it.\n",
    "\n",
    "Nested_List59 = [[1,2,3],[32,89,78],[58,56,58]]\n",
    "\n",
    "for i in Nested_List59:  # Nested_List59[0][1]\n",
    "    for j in i:\n",
    "        print(j, end=\" , \")\n",
    "    print()    \n"
   ]
  },
  {
   "cell_type": "code",
   "execution_count": 7,
   "id": "34506b69-3e80-4be6-b3ac-84dfda1c7ed7",
   "metadata": {},
   "outputs": [
    {
     "name": "stdout",
     "output_type": "stream",
     "text": [
      "[1, 2, 3, 32, 89, 78, 58, 56, 58]\n"
     ]
    }
   ],
   "source": [
    "#60. Nested List Flattening: Write a Python program to flatten a nested list and convert it into a single-dimensional list.\n",
    "\n",
    "Nested_Flattening_List60 = [[1,2,3],[32,89,78],[58,56,58]]\n",
    "Flattening_List60 = []\n",
    "for i in Nested_Flattening_List60:  \n",
    "    for j in i:\n",
    "        Flattening_List60.append(j)\n",
    "print(Flattening_List60)        "
   ]
  },
  {
   "cell_type": "code",
   "execution_count": 10,
   "id": "05e2c8e3-d597-4cc3-9ae7-c3632c403238",
   "metadata": {},
   "outputs": [
    {
     "name": "stdout",
     "output_type": "stream",
     "text": [
      "[[1, 3, 5], [32, 78, 89], [56, 58, 58]]\n"
     ]
    }
   ],
   "source": [
    "#61. Nested List Sorting: Given a nested list containing lists of integers, write a Python program to sort the sublists based on their lengths.\n",
    "Nested_Sorting_List61 = [[1,5,3],[32,89,78],[58,56,58]]\n",
    "Nested_Sorting_List61 = [sorted(i) for i in Nested_Sorting_List61]\n",
    "print(Nested_Sorting_List61)\n",
    "\n"
   ]
  },
  {
   "cell_type": "code",
   "execution_count": null,
   "id": "e0162707-041d-42c3-ac63-9bd7c2943d07",
   "metadata": {},
   "outputs": [],
   "source": [
    "#62. List of Tuples Conversion: Given a nested list containing tuples of (x, y) coordinates, write a Python program to convert it into a list of x-coordinates and a list of y-coordinates.\n",
    "\n"
   ]
  },
  {
   "cell_type": "code",
   "execution_count": null,
   "id": "0a4d6918-da20-4af0-bb73-0537d8d768aa",
   "metadata": {},
   "outputs": [],
   "source": [
    "#63. Matrix Transpose: Write a Python program to transpose a given matrix represented as a nested list.\n",
    "\n"
   ]
  },
  {
   "cell_type": "code",
   "execution_count": null,
   "id": "a05d749c-8ca0-4c3c-82b4-39e08d3d92b9",
   "metadata": {},
   "outputs": [],
   "source": [
    "#64. Nested List Concatenation: Given a list of nested lists, write a Python program to concatenate all the sublists into a single flat list.\n",
    "\n"
   ]
  },
  {
   "cell_type": "code",
   "execution_count": null,
   "id": "e94910b0-30fc-49b7-9518-9d39f6beafe8",
   "metadata": {},
   "outputs": [],
   "source": [
    "#65. Count Even Numbers: Write a Python program to count the number of even numbers in a nested list.\n",
    "\n"
   ]
  },
  {
   "cell_type": "code",
   "execution_count": null,
   "id": "d22ac463-de34-40fd-9a68-cc7c0386b0c1",
   "metadata": {},
   "outputs": [],
   "source": [
    "#66. Maximum Element in Nested List: Write a Python program to find the maximum element in a nested list of integers.\n",
    "\n"
   ]
  },
  {
   "cell_type": "code",
   "execution_count": null,
   "id": "5d0f87b0-b841-40c4-b05c-1a897e3e2238",
   "metadata": {},
   "outputs": [],
   "source": [
    "#67. Diagonal Sum of Matrix: Given a square matrix represented as a nested list, write a Python program to calculate the sum of the elements in the main diagonal.\n",
    "\n"
   ]
  },
  {
   "cell_type": "code",
   "execution_count": null,
   "id": "3dd54f7b-1df6-49aa-abb5-e37dfa45a089",
   "metadata": {},
   "outputs": [],
   "source": [
    "#68. Nested List Element Search: Write a Python program to search for a specific element in a nested list and return its position (row and column indices).\n",
    "\n",
    " "
   ]
  },
  {
   "cell_type": "markdown",
   "id": "5250db54-2fb3-493e-9a2c-045d6351597d",
   "metadata": {},
   "source": [
    "Set Problems:\n"
   ]
  },
  {
   "cell_type": "code",
   "execution_count": 14,
   "id": "ac67bd2c-6c98-4743-832a-70c51523fd5b",
   "metadata": {},
   "outputs": [
    {
     "name": "stdout",
     "output_type": "stream",
     "text": [
      "{1, 2, 3, 4, 5, 6, 7, 8, 9}\n"
     ]
    }
   ],
   "source": [
    "#69. Duplicate Removal: Write a Python program that takes a list of elements as input and creates a new set containing only the unique elements from the list.\n",
    "list69 = [1,1,2,3,3,4,5,4,2,5,6,5,6,7,8,7,8,9,8,9]\n",
    "Duplicate_Removal69 = set(list69)\n",
    "print(Duplicate_Removal69)\n"
   ]
  },
  {
   "cell_type": "code",
   "execution_count": 16,
   "id": "0a7e50ca-89ba-4cae-921d-d21b34a1169f",
   "metadata": {},
   "outputs": [
    {
     "name": "stdout",
     "output_type": "stream",
     "text": [
      "{4, 5}\n"
     ]
    }
   ],
   "source": [
    "#70. Set Intersection: Given two sets A and B, write a Python program to find their intersection and print the common elements.\n",
    "seta70 = {1,5,4,7,9}\n",
    "setb70 = {3,5,4,6,8}\n",
    "print(seta70 & setb70)"
   ]
  },
  {
   "cell_type": "code",
   "execution_count": 17,
   "id": "634f4a94-44e2-4355-8ada-ae9f8105602c",
   "metadata": {},
   "outputs": [
    {
     "name": "stdout",
     "output_type": "stream",
     "text": [
      "{1, 3, 4, 5, 6, 7, 8, 9}\n"
     ]
    }
   ],
   "source": [
    "#71. Set Union: Given two sets A and B, write a Python program to find their union and print all the distinct elements from both sets.\n",
    "seta71 = {1,5,4,7,9}\n",
    "setb71 = {3,5,4,6,8}\n",
    "print(seta71 | setb71)\n",
    "\n"
   ]
  },
  {
   "cell_type": "code",
   "execution_count": null,
   "id": "4e9bfb1b-295f-49b8-ba70-ec96df3a0c26",
   "metadata": {},
   "outputs": [],
   "source": [
    "#72. Set Difference: Given two sets A and B, write a Python program to find the difference between set A and set B (i.e., elements present in A but not in B) and print the result.\n",
    "\n"
   ]
  },
  {
   "cell_type": "code",
   "execution_count": null,
   "id": "ed41fd1f-31a8-4795-955d-1ed06302b234",
   "metadata": {},
   "outputs": [],
   "source": [
    "#73. Set Symmetric Difference: Given two sets A and B, write a Python program to find the symmetric difference between the two sets (i.e., elements that are present in either set A or set B, but not in both) and print the result.\n",
    "\n"
   ]
  },
  {
   "cell_type": "code",
   "execution_count": null,
   "id": "2c84c67f-32c9-4d2c-a1fe-f23fee8bd575",
   "metadata": {},
   "outputs": [],
   "source": [
    "#74. Set Operations: Given three sets A, B, and C, write a Python program to find and print the intersection of A and B, the union of B and C, and the difference between C and A.\n",
    "\n"
   ]
  },
  {
   "cell_type": "code",
   "execution_count": null,
   "id": "ee9775a2-ec66-4c09-ad8e-e368cfb79006",
   "metadata": {},
   "outputs": [],
   "source": [
    "#75. Set Subset Check: Given two sets A and B, write a Python program to check if set A is a subset of set B and print the result.\n",
    "\n"
   ]
  },
  {
   "cell_type": "code",
   "execution_count": null,
   "id": "d165e1db-f98d-4515-affd-c7e8b7b18233",
   "metadata": {},
   "outputs": [],
   "source": [
    "#76. Set Superset Check: Given two sets A and B, write a Python program to check if set A is a superset of set B and print the result.\n",
    "\n"
   ]
  },
  {
   "cell_type": "code",
   "execution_count": null,
   "id": "a4cc26f9-b328-4765-8ea2-e783d635462c",
   "metadata": {},
   "outputs": [],
   "source": [
    "#77. Set Length Check: Write a Python program that takes a set as input and prints the number of elements in the set.\n",
    "\n"
   ]
  },
  {
   "cell_type": "code",
   "execution_count": null,
   "id": "11fd8d25-3bcc-45fa-ad47-78c5432f239b",
   "metadata": {},
   "outputs": [],
   "source": [
    "#76. Set Membership Test: Write a Python program that takes an element as input and checks if it exists in a given set. Print “Found” if the element is present and “Not Found” otherwise.\n"
   ]
  },
  {
   "cell_type": "markdown",
   "id": "5ba01ecb-a1c0-4661-a697-66c4d17affc4",
   "metadata": {},
   "source": [
    "Dictionary Problems:\n"
   ]
  },
  {
   "cell_type": "code",
   "execution_count": null,
   "id": "11a12aee-d9ab-4dc2-b252-69d60f4ae270",
   "metadata": {},
   "outputs": [],
   "source": [
    "#77. Dictionary Manipulation: Given a dictionary with student names as keys and their corresponding scores as values, write a Python program to add a new student to the dictionary and update the score of an existing student.\n",
    "\n"
   ]
  },
  {
   "cell_type": "code",
   "execution_count": null,
   "id": "9992c7cc-f058-432f-b6b2-7728d603a0b5",
   "metadata": {},
   "outputs": [],
   "source": [
    "#78. Dictionary Keys and Values: Write a Python program that takes a dictionary as input and prints all the keys and values in separate lines.\n",
    "\n"
   ]
  },
  {
   "cell_type": "code",
   "execution_count": null,
   "id": "c1c68d5b-a677-40b5-a8a6-83eeac8f5bd8",
   "metadata": {},
   "outputs": [],
   "source": [
    "#79. Dictionary Length: Write a Python program to calculate and print the number of key-value pairs in a given dictionary.\n",
    "\n"
   ]
  },
  {
   "cell_type": "code",
   "execution_count": null,
   "id": "0e23822f-4440-4a39-8ea6-1aa0887fc535",
   "metadata": {},
   "outputs": [],
   "source": [
    "#80. Dictionary Value Search: Given a dictionary of items and their prices, write a Python program to search for an item based on its price and print the item’s name.\n",
    "\n"
   ]
  },
  {
   "cell_type": "code",
   "execution_count": null,
   "id": "602dcd0b-c329-4e3d-99c4-40b60610a4d6",
   "metadata": {},
   "outputs": [],
   "source": [
    "#81. Dictionary Merging: Given two dictionaries, write a Python program to merge them into a single dictionary and print the result.\n",
    "\n"
   ]
  },
  {
   "cell_type": "code",
   "execution_count": null,
   "id": "715d75d7-aad3-47e0-a47a-80888c034cbc",
   "metadata": {},
   "outputs": [],
   "source": [
    "#82. Dictionary Key Removal: Given a dictionary of items and their quantities, write a Python program to remove a specific item from the dictionary based on user input.\n",
    "\n"
   ]
  },
  {
   "cell_type": "code",
   "execution_count": null,
   "id": "1e7dfaa2-286e-4146-89ce-f2fe1e7c29a0",
   "metadata": {},
   "outputs": [],
   "source": [
    "#83. Dictionary Sorting: Given a dictionary with names as keys and corresponding ages as values, write a Python program to sort the dictionary based on age in ascending order.\n",
    "\n"
   ]
  },
  {
   "cell_type": "code",
   "execution_count": null,
   "id": "764097b1-df95-45b6-9e5b-ac07022b1129",
   "metadata": {},
   "outputs": [],
   "source": [
    "#84. Dictionary Frequency Count: Write a Python program that takes a string as input and creates a dictionary containing each character as a key and its frequency as the value.\n",
    "\n"
   ]
  },
  {
   "cell_type": "code",
   "execution_count": null,
   "id": "72e70cdd-924d-447a-8b48-555a09a700f1",
   "metadata": {},
   "outputs": [],
   "source": [
    "#85. Dictionary Comprehension: Given a list of integers, write a Python program to create a dictionary where the keys are the elements from the list, and the values are their squares.\n",
    "\n"
   ]
  },
  {
   "cell_type": "code",
   "execution_count": null,
   "id": "9cfdf5d6-932d-4906-a9dc-3034b3803cfb",
   "metadata": {},
   "outputs": [],
   "source": [
    "#86. Dictionary Key Check: Write a Python program that takes a key as input and checks if it exists in a given dictionary. Print “Key Found” if the key is present and “Key Not Found” otherwise.\n"
   ]
  },
  {
   "cell_type": "markdown",
   "id": "fc0bc2e2-b90f-4ba1-a0bc-dd9df374d319",
   "metadata": {},
   "source": [
    "Nested Dictionary Problems:\n"
   ]
  },
  {
   "cell_type": "code",
   "execution_count": null,
   "id": "5d4aeaab-760f-40cf-a0be-753a34b76061",
   "metadata": {},
   "outputs": [],
   "source": [
    "#87. Access Nested Dictionary: Given a nested dictionary containing student details, write a Python program to access and print specific information such as a student’s name, age, and address.\n"
   ]
  },
  {
   "cell_type": "code",
   "execution_count": null,
   "id": "fd0d82b3-7553-4c83-8d39-d032f5141114",
   "metadata": {},
   "outputs": [],
   "source": [
    "#88. Nested Dictionary Length: Write a Python program to calculate and print the total number of key-value pairs in a nested dictionary.\n",
    "\n"
   ]
  },
  {
   "cell_type": "code",
   "execution_count": null,
   "id": "4c465136-ee87-46e4-b68b-a40c0e578c39",
   "metadata": {},
   "outputs": [],
   "source": [
    "#89. Nested Dictionary Update: Given a nested dictionary of employee details, write a Python program to update an employee’s salary based on their employee ID.\n",
    "\n"
   ]
  },
  {
   "cell_type": "code",
   "execution_count": null,
   "id": "fa13d762-d6a0-4370-b8f1-8bcd86caf1eb",
   "metadata": {},
   "outputs": [],
   "source": [
    "#90. Nested Dictionary Sorting: Given a nested dictionary containing product details (product name, price, and quantity), write a Python program to sort the products based on their prices in ascending order.\n"
   ]
  },
  {
   "cell_type": "code",
   "execution_count": null,
   "id": "83f30828-86e5-499d-80c6-d08c6da801fd",
   "metadata": {},
   "outputs": [],
   "source": [
    "#91. Nested Dictionary Key Search: Write a Python program that takes a key as input and searches for it in a nested dictionary. If found, print the corresponding value, otherwise, print “Key Not Found.”\n"
   ]
  },
  {
   "cell_type": "markdown",
   "id": "86761054-238d-4427-bb46-4b4d5098410b",
   "metadata": {},
   "source": [
    "Break & Continue: \n"
   ]
  },
  {
   "cell_type": "code",
   "execution_count": null,
   "id": "ff1c69c3-2448-4de2-b159-bf21e46a6fc1",
   "metadata": {},
   "outputs": [],
   "source": [
    "#92. Prime Number Checker: Write a Python program that takes a number as input and determines if it is a prime number or not. Use a `for` loop to check for factors. If a factor is found, `break` out of the loop.\n",
    "\n"
   ]
  },
  {
   "cell_type": "code",
   "execution_count": null,
   "id": "6c104242-896a-4ec9-bd66-5d53bbe8b6a4",
   "metadata": {},
   "outputs": [],
   "source": [
    "#93. Even Number Printer: Write a Python program to print all even numbers from 1 to 20. Use a `for` loop and `continue` to skip odd numbers.\n",
    "\n"
   ]
  },
  {
   "cell_type": "code",
   "execution_count": null,
   "id": "5cc0beee-39cc-4ea5-a076-54b205275e3f",
   "metadata": {},
   "outputs": [],
   "source": [
    "#94. Password Validator: Write a Python program that takes a password as input and checks if it meets the following criteria: at least 8 characters long, contains both uppercase and lowercase letters, and has at least one digit. If the password is valid, print “Password accepted.” If not, use `continue` to prompt the user to enter a valid password.\n",
    "\n"
   ]
  },
  {
   "cell_type": "code",
   "execution_count": null,
   "id": "66548b9e-e168-4ca6-aee1-6b2d90ef2047",
   "metadata": {},
   "outputs": [],
   "source": [
    "#95. Divisible by 3 or 5: Write a Python program to print all numbers from 1 to 50 that are divisible by either 3 or 5. Use a `for` loop and `continue` to skip numbers that are not divisible by either 3 or 5.\n",
    "\n"
   ]
  },
  {
   "cell_type": "code",
   "execution_count": null,
   "id": "b2a53b0b-2339-4e33-a3db-59687d52ac81",
   "metadata": {},
   "outputs": [],
   "source": [
    "#96. Positive Number Sum: Write a Python program that takes positive numbers as input until a negative number is entered. Then, calculate and print the sum of all positive numbers entered. Use a `while` loop and `break` to exit the loop when a negative number is encountered.\n",
    "\n"
   ]
  },
  {
   "cell_type": "code",
   "execution_count": null,
   "id": "abb99c0d-c2db-4a90-babd-9ff9e61d24a8",
   "metadata": {},
   "outputs": [],
   "source": [
    "#97. Word Palindrome Checker: Write a Python program that takes a word as input and checks if it is a palindrome (reads the same forwards and backward). Use `continue` to skip checking the word if its length is less than 3 characters.\n",
    "\n"
   ]
  },
  {
   "cell_type": "code",
   "execution_count": null,
   "id": "51536eca-844c-47c0-94b9-3b6165c8da36",
   "metadata": {},
   "outputs": [],
   "source": [
    "#98. Odd Number Finder: Write a Python program to find the first odd number from a list of integers. Use a `for` loop and `break` to stop the loop when the first odd number is found.\n",
    "\n"
   ]
  },
  {
   "cell_type": "code",
   "execution_count": null,
   "id": "ecc100aa-e86b-4163-8a27-dff8ba131277",
   "metadata": {},
   "outputs": [],
   "source": [
    "#99. Number Guessing Game: Write a Python program that generates a random number between 1 and 100 and lets the user guess the number. Use a `while` loop, `break` when the correct number is guessed, and `continue` to keep prompting the user until they guess correctly.\n",
    "\n"
   ]
  },
  {
   "cell_type": "code",
   "execution_count": null,
   "id": "a5e4b421-3aa1-441d-892d-8c3e341c6cfa",
   "metadata": {},
   "outputs": [],
   "source": [
    "#100. Vowel Counter: Write a Python program that takes a string as input and counts the number of vowels (a, e, i, o, u) in it. Use a `for` loop and `continue` to skip counting non-vowel characters.\n",
    "\n"
   ]
  },
  {
   "cell_type": "code",
   "execution_count": null,
   "id": "29c78e32-a1a4-4b7a-8daa-1a155a468688",
   "metadata": {},
   "outputs": [],
   "source": [
    "#101. Unique Characters: Write a Python program that takes a string as input and checks if it contains all unique characters (no character repeats). Use a `for` loop and `break` when a character repeats.\n"
   ]
  },
  {
   "cell_type": "markdown",
   "id": "8468b151-e68b-4500-ac41-fdf8d99b320c",
   "metadata": {},
   "source": [
    "Functions Problems:\n"
   ]
  },
  {
   "cell_type": "code",
   "execution_count": null,
   "id": "fcfa5dcf-92c6-439c-8811-2936d7b94b7c",
   "metadata": {},
   "outputs": [],
   "source": [
    "#102. Factorial Calculator: Write a Python function called `factorial` that takes an integer as input and returns its factorial. Test the function with different values.\n",
    "\n"
   ]
  },
  {
   "cell_type": "code",
   "execution_count": null,
   "id": "f77ed105-ec40-44e6-8ffe-81af65ff371c",
   "metadata": {},
   "outputs": [],
   "source": [
    "#103. Palindrome Checker: Write a Python function called `is_palindrome` that takes a string as input and returns `True` if it is a palindrome and `False` otherwise. Test the function with different words.\n"
   ]
  },
  {
   "cell_type": "code",
   "execution_count": null,
   "id": "1b0a66de-d511-4cad-aa9c-3685082d949c",
   "metadata": {},
   "outputs": [],
   "source": [
    "#104. Even or Odd Checker: Write a Python function called `even_or_odd` that takes an integer as input and returns “Even” if the number is even and “Odd” if the number is odd. Test the function with different numbers.\n"
   ]
  },
  {
   "cell_type": "code",
   "execution_count": null,
   "id": "2a9bd81d-627c-4438-aa36-e0fdc1cd874f",
   "metadata": {},
   "outputs": [],
   "source": [
    "#105. List Sum Calculator: Write a Python function called `list_sum` that takes a list of integers as input and returns the sum of all elements in the list. Test the function with different lists.\n"
   ]
  },
  {
   "cell_type": "code",
   "execution_count": null,
   "id": "2f6c3fc5-6e7b-455d-8fdc-cc80d4533dba",
   "metadata": {},
   "outputs": [],
   "source": [
    "#106. Greatest Common Divisor (GCD) Calculator: Write a Python function called `gcd` that takes two integers as input and returns their greatest common divisor. Test the function with different pairs of numbers.\n"
   ]
  },
  {
   "cell_type": "code",
   "execution_count": null,
   "id": "3edf23f8-5537-4fce-a67c-98ea6d0ee008",
   "metadata": {},
   "outputs": [],
   "source": [
    "#107. Leap Year Checker: Write a Python function called `is_leap_year` that takes a year as input and returns `True` if it is a leap year and `False` otherwise. Test the function with different years.\n"
   ]
  },
  {
   "cell_type": "markdown",
   "id": "0e8ca41a-2784-4866-bb36-55357325c262",
   "metadata": {},
   "source": [
    "Nested Functions Problems:\n"
   ]
  },
  {
   "cell_type": "code",
   "execution_count": null,
   "id": "a0b91aba-f414-401a-b594-a36e1a8a59e2",
   "metadata": {},
   "outputs": [],
   "source": [
    "#108. Math Operations: Write a Python function called `math_operations` that takes three numbers and a string representing an operation (‘add’, ‘subtract’, ‘multiply’, or ‘divide’). The function should return the result of the specified operation on the three numbers. Implement the math operations as nested functions.\n"
   ]
  },
  {
   "cell_type": "code",
   "execution_count": null,
   "id": "5c3b6000-3b4c-444c-becc-cad7ce1f1572",
   "metadata": {},
   "outputs": [],
   "source": [
    "#109. Greeting Generator: Write a Python function called `greeting_generator` that takes a name as input and returns a greeting message using nested functions. The greeting message should be customizable (e.g., “Hello, {name}! How are you today?”).\n"
   ]
  },
  {
   "cell_type": "code",
   "execution_count": null,
   "id": "4d82701c-d79f-499a-8a07-e517d7e264cb",
   "metadata": {},
   "outputs": [],
   "source": [
    "#110. Temperature Converter: Write a Python function called `temperature_converter` that takes a temperature value and a string representing the scale (‘C’ for Celsius or ‘F’ for Fahrenheit) as input. The function should convert the temperature from one scale to the other using nested functions and return the converted value."
   ]
  },
  {
   "cell_type": "markdown",
   "id": "9595e7f1-65b1-4cf1-a795-cc91f1bc85f8",
   "metadata": {},
   "source": [
    "Recursion: \n"
   ]
  },
  {
   "cell_type": "code",
   "execution_count": null,
   "id": "7c077e80-f118-4c33-b40d-e82d188de6f5",
   "metadata": {},
   "outputs": [],
   "source": [
    "#111. Factorial Calculation: Write a recursive Python function called `factorial` that takes a non-negative integer as input and returns its factorial.\n",
    "\n"
   ]
  },
  {
   "cell_type": "code",
   "execution_count": null,
   "id": "bdbfb8d3-a1e3-4016-88f9-39db88093437",
   "metadata": {},
   "outputs": [],
   "source": [
    "#112. Fibonacci Series: Write a recursive Python function called `Fibonacci` that takes an integer N as input and returns the Nth number in the Fibonacci series. The Fibonacci series is defined as follows: F(0) = 0, F(1) = 1, and F(n) = F(n-1) + F(n-2) for n > 1.\n",
    "\n"
   ]
  },
  {
   "cell_type": "code",
   "execution_count": null,
   "id": "b08c6d58-486f-43b0-a236-f8eba0217a45",
   "metadata": {},
   "outputs": [],
   "source": [
    "#113. The sum of Digits: Write a recursive Python function called `sum_of_digits` that takes an integer as input and returns the sum of its digits.\n",
    "\n"
   ]
  },
  {
   "cell_type": "code",
   "execution_count": null,
   "id": "1bb44533-84dc-4c4f-928f-3bbc89336740",
   "metadata": {},
   "outputs": [],
   "source": [
    "#114. Binary Search: Write a recursive Python function called `binary_search` that takes a sorted list and a target value as input and returns the index of the target value in the list using binary search. If the target value is not in the list, return -1.\n",
    "\n"
   ]
  },
  {
   "cell_type": "code",
   "execution_count": null,
   "id": "37f87a0e-22a0-42ce-9bd7-ba4eb8981477",
   "metadata": {},
   "outputs": [],
   "source": [
    "#115. Power Calculation: Write a recursive Python function called `power` that takes two positive integers, base and exponent, as input and returns the value of base raised to the exponent."
   ]
  }
 ],
 "metadata": {
  "kernelspec": {
   "display_name": "Python 3 (ipykernel)",
   "language": "python",
   "name": "python3"
  },
  "language_info": {
   "codemirror_mode": {
    "name": "ipython",
    "version": 3
   },
   "file_extension": ".py",
   "mimetype": "text/x-python",
   "name": "python",
   "nbconvert_exporter": "python",
   "pygments_lexer": "ipython3",
   "version": "3.12.1"
  }
 },
 "nbformat": 4,
 "nbformat_minor": 5
}
